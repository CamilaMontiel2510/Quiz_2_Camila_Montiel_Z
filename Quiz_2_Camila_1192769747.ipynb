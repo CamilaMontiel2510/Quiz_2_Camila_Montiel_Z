{
 "cells": [
  {
   "cell_type": "code",
   "execution_count": 37,
   "metadata": {},
   "outputs": [],
   "source": [
    "import numpy as np\n",
    "import pandas as pd \n",
    "import matplotlib.pyplot as plt\n",
    "import scipy as sio\n",
    "\n"
   ]
  },
  {
   "cell_type": "code",
   "execution_count": 33,
   "metadata": {},
   "outputs": [
    {
     "name": "stdout",
     "output_type": "stream",
     "text": [
      "4\n",
      "3\n"
     ]
    }
   ],
   "source": [
    "matrizn4 = np.random.randint(5, size=(10,20,30,200))\n",
    "matriz4_3d_copy = matrizn4[:,:,:,0].copy()\n",
    "print(matrizn4.ndim)\n",
    "print(matriz4_3d_copy.ndim)\n"
   ]
  },
  {
   "cell_type": "code",
   "execution_count": 31,
   "metadata": {},
   "outputs": [
    {
     "name": "stdout",
     "output_type": "stream",
     "text": [
      "Forma: (10, 20, 30)\n",
      "Tamaño: 6000\n",
      "Tipo: int32\n",
      "Dimensión 3\n",
      "Tamaño de los elementos de la matriz:  4\n",
      "Tamaño en bytes:  24000\n"
     ]
    }
   ],
   "source": [
    "#Atributos de matriz4_3_copy de 3 dimensiones\n",
    "\n",
    "print('Forma:',matriz4_3d_copy.shape)\n",
    "print('Tamaño:',matriz4_3d_copy.size)\n",
    "print('Tipo:',matriz4_3d_copy.dtype)\n",
    "print('Dimensión',matriz4_3d_copy.ndim)\n",
    "print('Tamaño de los elementos de la matriz: ', matriz4_3d_copy.itemsize)\n",
    "print('Tamaño en bytes: ', matriz4_3d_copy.nbytes)"
   ]
  },
  {
   "cell_type": "code",
   "execution_count": 36,
   "metadata": {},
   "outputs": [
    {
     "name": "stdout",
     "output_type": "stream",
     "text": [
      "2\n"
     ]
    }
   ],
   "source": [
    "#pasar matriz 3d a 2d\n",
    "matriz2d = np.reshape(matriz4_3d_copy,(30, 200))\n",
    "print(matriz2d.ndim)"
   ]
  },
  {
   "cell_type": "code",
   "execution_count": 39,
   "metadata": {},
   "outputs": [
    {
     "name": "stdout",
     "output_type": "stream",
     "text": [
      "   0    1    2    3    4    5    6    7    8    9    ...  190  191  192  193  \\\n",
      "0    1    1    0    1    2    4    4    2    0    4  ...    0    1    0    1   \n",
      "1    0    1    3    4    4    3    3    0    2    0  ...    0    4    1    1   \n",
      "2    2    3    1    0    3    4    3    0    0    1  ...    1    3    2    4   \n",
      "3    3    2    0    2    1    2    1    2    0    1  ...    1    1    2    4   \n",
      "4    3    0    3    1    4    1    4    0    0    3  ...    2    3    4    1   \n",
      "\n",
      "   194  195  196  197  198  199  \n",
      "0    3    3    1    0    3    2  \n",
      "1    0    0    1    0    1    1  \n",
      "2    1    1    1    4    3    0  \n",
      "3    0    4    1    1    3    4  \n",
      "4    3    1    1    3    0    0  \n",
      "\n",
      "[5 rows x 200 columns]\n"
     ]
    }
   ],
   "source": [
    "#Funcion psara pasar la matriz a dataframe\n",
    "def matriztodataframe(matriz):\n",
    "    dfmatriz= pd.DataFrame(matriz)\n",
    "    return dfmatriz\n",
    "matriz_to_dataf = matriztodataframe(matriz2d)\n",
    "print(matriz_to_dataf.head())"
   ]
  }
 ],
 "metadata": {
  "kernelspec": {
   "display_name": "base",
   "language": "python",
   "name": "python3"
  },
  "language_info": {
   "codemirror_mode": {
    "name": "ipython",
    "version": 3
   },
   "file_extension": ".py",
   "mimetype": "text/x-python",
   "name": "python",
   "nbconvert_exporter": "python",
   "pygments_lexer": "ipython3",
   "version": "3.11.7"
  }
 },
 "nbformat": 4,
 "nbformat_minor": 2
}
